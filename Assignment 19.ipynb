{
 "cells": [
  {
   "cell_type": "code",
   "execution_count": null,
   "id": "0439d575-ecc0-4057-86ea-6f6720968ef5",
   "metadata": {},
   "outputs": [],
   "source": [
    "from selenium import webdriver\n",
    "from selenium.webdriver.common.by import by\n",
    "from webdriver_manager.chrome import ChromeDriverManager"
   ]
  },
  {
   "cell_type": "code",
   "execution_count": null,
   "id": "b849438f-d4ab-4669-a178-b501e8a247f0",
   "metadata": {},
   "outputs": [],
   "source": [
    "driver= webdriver.Chrome(ChromeDriverManager().install())\n",
    "driver.get(\"https://www.youtube.com/@PW-Foundation/videos\")"
   ]
  },
  {
   "cell_type": "markdown",
   "id": "b048674d-7314-4478-8b5e-5c01cce07ffa",
   "metadata": {},
   "source": [
    "### Q1 Write a python program to extract the video URL ofthe first five videos."
   ]
  },
  {
   "cell_type": "code",
   "execution_count": null,
   "id": "d994c2bf-9437-476d-a811-9d7d6db670ae",
   "metadata": {},
   "outputs": [],
   "source": [
    "links =driver.find_elements(by.TAG_NAME,\"a\")\n",
    "urls=[]\n",
    "for link in links:\n",
    "    url = link.get_attribute(\"href\")\n",
    "    urls.append(url)"
   ]
  },
  {
   "cell_type": "code",
   "execution_count": null,
   "id": "1dac33f8-8842-4bf1-884f-7b0ab25aad67",
   "metadata": {},
   "outputs": [],
   "source": [
    "firs_five_links=[]\n",
    "for url in urls[17:25]:\n",
    "    if url == None:\n",
    "        continue\n",
    "    else:\n",
    "        first_five_links.append(url)\n",
    "print (first_five_links)"
   ]
  },
  {
   "cell_type": "markdown",
   "id": "3fcd6ed1-eed5-4163-a28f-93db283390f9",
   "metadata": {},
   "source": [
    "### Q2 Write the python program to extract the URLof the video thumbnails of the video five videos. "
   ]
  },
  {
   "cell_type": "code",
   "execution_count": null,
   "id": "1152e3d5-60b0-4ba4-bdbf-eed9784fd33b",
   "metadata": {},
   "outputs": [],
   "source": [
    "driver.get(\"https://www.youtube.com/@PW-Foundation/videos\")\n",
    "links=driver.find_elements(by.TAG_NAME,\"img\")\n",
    "thumbnails=[]\n",
    "for thumbnail in links[8:18]:\n",
    "    thumbnail=thumbnail.get_attribute(\"src\")\n",
    "    if thumbnail == None:\n",
    "        continue\n",
    "    else:\n",
    "        thumbnails.append(thumbnail)\n",
    "print(len(thumbnail))\n",
    "for i in thumbnails:\n",
    "    print(i)"
   ]
  },
  {
   "cell_type": "markdown",
   "id": "daafc350-b485-4c1b-a639-e075462d010d",
   "metadata": {},
   "source": [
    "### Q3 Write a python program to extract the title of the first five videos.  "
   ]
  },
  {
   "cell_type": "code",
   "execution_count": null,
   "id": "ec5f7400-ee7a-4471-8e83-ced994dfaf2e",
   "metadata": {},
   "outputs": [],
   "source": [
    "driver.get(\"https://www.youtube.com/@PW-Foundation/videos\")\n",
    "titles=driver.find_elements(by.TAG_NAME,\"yt-formatted-string\")\n",
    "titles_video=[]\n",
    "for i in titles[15:35:4]:\n",
    "    titles_video.append(i.text)\n",
    "print(titles_video)"
   ]
  },
  {
   "cell_type": "markdown",
   "id": "8a0c2df6-4a63-4fe2-bc4e-33032dcacef7",
   "metadata": {},
   "source": [
    "### Q4 Write a python program to extract the number of views of the first five videos."
   ]
  },
  {
   "cell_type": "code",
   "execution_count": null,
   "id": "9832d958-14ea-4914-886f-3ee1036ae22d",
   "metadata": {},
   "outputs": [],
   "source": [
    "driver.get(\"https://www.youtube.com/@PW-Foundation/videos\")\n",
    "views=driver.find_elements(by.TAG_NAME,\"span\")\n",
    "video_views=[]\n",
    "for i in views[23:48]:\n",
    "    if str (\"views\") in i.text:\n",
    "        video_views.append(i.text)\n",
    "print(viedo_views)        "
   ]
  },
  {
   "cell_type": "markdown",
   "id": "acf2f19e-ece8-4fb8-b99d-3fb8f1c2deae",
   "metadata": {},
   "source": [
    "### Q5 Write a python program to extract the time of posting of video for the first five videos."
   ]
  },
  {
   "cell_type": "code",
   "execution_count": null,
   "id": "8e40d3e9-d045-4953-8c9f-627ecbda2e7c",
   "metadata": {},
   "outputs": [],
   "source": [
    "driver.get(\"https://www.youtube.com/@PW-Foundation/videos\")\n",
    "times =driver.find_elements(by.TAG_NAME,\"span\")\n",
    "video_time=[]\n",
    "for i in times[24:]:\n",
    "    if str(\"day\") in i.text:\n",
    "        video_times.append(i.text)\n",
    "print(video_times)"
   ]
  },
  {
   "cell_type": "code",
   "execution_count": null,
   "id": "e982bf6d-7f3f-4f5c-af7c-c559bd007423",
   "metadata": {},
   "outputs": [],
   "source": [
    "import csv"
   ]
  },
  {
   "cell_type": "code",
   "execution_count": null,
   "id": "e229ac73-f405-4d3f-a66a-50e829e93326",
   "metadata": {},
   "outputs": [],
   "source": [
    "fori in range (len(first_five_links)-1):\n",
    "    data csv=str(first_five_links[i]),str(thumbnails[i]),str(titles_video[i]),str(video_times[i])\n",
    "    with open('video_details.csv','w',encoding='utf-8',newline='') as file:\n",
    "        writer=csv.writer(file)\n",
    "        writer.writerow(data_csv)\n",
    "print(done)"
   ]
  }
 ],
 "metadata": {
  "kernelspec": {
   "display_name": "Python 3 (ipykernel)",
   "language": "python",
   "name": "python3"
  },
  "language_info": {
   "codemirror_mode": {
    "name": "ipython",
    "version": 3
   },
   "file_extension": ".py",
   "mimetype": "text/x-python",
   "name": "python",
   "nbconvert_exporter": "python",
   "pygments_lexer": "ipython3",
   "version": "3.10.8"
  }
 },
 "nbformat": 4,
 "nbformat_minor": 5
}
